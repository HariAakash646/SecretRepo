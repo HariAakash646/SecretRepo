{
  "nbformat": 4,
  "nbformat_minor": 0,
  "metadata": {
    "colab": {
      "provenance": [],
      "gpuType": "T4"
    },
    "kernelspec": {
      "name": "python3",
      "display_name": "Python 3"
    },
    "language_info": {
      "name": "python"
    },
    "accelerator": "GPU"
  },
  "cells": [
    {
      "cell_type": "code",
      "execution_count": null,
      "metadata": {
        "colab": {
          "base_uri": "https://localhost:8080/"
        },
        "id": "ZJcS2wZGWzD7",
        "outputId": "d0bb21ad-08d3-4860-f2c1-4e0496f7c265"
      },
      "outputs": [
        {
          "output_type": "stream",
          "name": "stdout",
          "text": [
            "Collecting face_recognition\n",
            "  Downloading face_recognition-1.3.0-py2.py3-none-any.whl (15 kB)\n",
            "Collecting face-recognition-models>=0.3.0 (from face_recognition)\n",
            "  Downloading face_recognition_models-0.3.0.tar.gz (100.1 MB)\n",
            "\u001b[2K     \u001b[90m━━━━━━━━━━━━━━━━━━━━━━━━━━━━━━━━━━━━━━━━\u001b[0m \u001b[32m100.1/100.1 MB\u001b[0m \u001b[31m10.1 MB/s\u001b[0m eta \u001b[36m0:00:00\u001b[0m\n",
            "\u001b[?25h  Preparing metadata (setup.py) ... \u001b[?25l\u001b[?25hdone\n",
            "Requirement already satisfied: Click>=6.0 in /usr/local/lib/python3.10/dist-packages (from face_recognition) (8.1.7)\n",
            "Requirement already satisfied: dlib>=19.7 in /usr/local/lib/python3.10/dist-packages (from face_recognition) (19.24.2)\n",
            "Requirement already satisfied: numpy in /usr/local/lib/python3.10/dist-packages (from face_recognition) (1.23.5)\n",
            "Requirement already satisfied: Pillow in /usr/local/lib/python3.10/dist-packages (from face_recognition) (9.4.0)\n",
            "Building wheels for collected packages: face-recognition-models\n",
            "  Building wheel for face-recognition-models (setup.py) ... \u001b[?25l\u001b[?25hdone\n",
            "  Created wheel for face-recognition-models: filename=face_recognition_models-0.3.0-py2.py3-none-any.whl size=100566171 sha256=52638d36f7b5db4faef76184861f798d049fa59a6995cd8f77874b514150c640\n",
            "  Stored in directory: /root/.cache/pip/wheels/7a/eb/cf/e9eced74122b679557f597bb7c8e4c739cfcac526db1fd523d\n",
            "Successfully built face-recognition-models\n",
            "Installing collected packages: face-recognition-models, face_recognition\n",
            "Successfully installed face-recognition-models-0.3.0 face_recognition-1.3.0\n"
          ]
        }
      ],
      "source": [
        "pip install face_recognition"
      ]
    },
    {
      "cell_type": "code",
      "source": [
        "import face_recognition\n",
        "import cv2\n",
        "import numpy as np\n",
        "import os\n",
        "\n",
        "class Face_Recognition():\n",
        "    def __init__(self):\n",
        "        self.encodings = {}\n",
        "\n",
        "    def picture_to_encoding(self, path):\n",
        "        files = os.listdir(path)\n",
        "        for file in files:\n",
        "            name = file.rstrip(\".jpg\")\n",
        "            image = face_recognition.load_image_file(\"/content/data/\"+file)\n",
        "            encoding = face_recognition.face_encodings(image)[0]\n",
        "\n",
        "            self.encodings[name] = encoding\n",
        "\n",
        "    def Recognize(self, path):\n",
        "        face_locations = []\n",
        "        face_encodings = []\n",
        "        face_names = []\n",
        "\n",
        "        frame = cv2.imread(path)\n",
        "        small_frame = cv2.resize(frame, (0,0), fx=0.25, fy=0.25)\n",
        "        rgb_small_frame = np.ascontiguousarray(small_frame[:, :, ::-1])\n",
        "\n",
        "        face_locations = face_recognition.face_locations(rgb_small_frame)\n",
        "        face_encodings = face_recognition.face_encodings(rgb_small_frame, face_locations)\n",
        "        face_names = []\n",
        "\n",
        "        for face_encoding in face_encodings:\n",
        "            matches = face_recognition.compare_faces(list(self.encodings.values()), face_encoding)\n",
        "            face_distance = face_recognition.face_distance(list(self.encodings.values()), face_encoding)\n",
        "            name = \"\"\n",
        "\n",
        "            best_match_index = np.argmin(face_distance)\n",
        "            if matches[best_match_index]:\n",
        "                name = list(self.encodings.keys())[best_match_index]\n",
        "            face_names.append(name)\n",
        "\n",
        "            if name in self.encodings.keys():\n",
        "                font = cv2.FONT_HERSHEY_SIMPLEX\n",
        "                cv2.putText(frame, name+\" Present\", (10,100), font, 1.5, (255,0,0), 3, 2)\n",
        "\n",
        "                if name in self.encodings.keys():\n",
        "                    print(name)"
      ],
      "metadata": {
        "id": "gsOxYB4PXONY"
      },
      "execution_count": null,
      "outputs": []
    },
    {
      "cell_type": "code",
      "source": [
        "Face_Recognition = Face_Recognition()\n",
        "\n",
        "Face_Recognition.picture_to_encoding(\"/content/data/\")"
      ],
      "metadata": {
        "id": "zYNc2aLKXmOH"
      },
      "execution_count": null,
      "outputs": []
    },
    {
      "cell_type": "code",
      "source": [
        "Face_Recognition.Recognize(\"/content/Dhruv1.jpg\")"
      ],
      "metadata": {
        "colab": {
          "base_uri": "https://localhost:8080/"
        },
        "id": "gC4C5VyycZ5Q",
        "outputId": "eae50b58-e85b-43a1-f3ca-0c8100c9f25b"
      },
      "execution_count": null,
      "outputs": [
        {
          "output_type": "stream",
          "name": "stdout",
          "text": [
            "Dhruv\n"
          ]
        }
      ]
    },
    {
      "cell_type": "code",
      "source": [
        "encodings = {}\n",
        "files = os.listdir(\"/content/images\")\n",
        "for file in files:\n",
        "  name = file.rstrip(\".JPG\")\n",
        "  print(name)\n",
        "  image = face_recognition.load_image_file(\"/content/images/\"+file)\n",
        "  encoding = face_recognition.face_encodings(image)[0]\n",
        "\n",
        "  encodings[name] = encoding.tolist()\n",
        "\n",
        "with open(\"encoding.json\", 'w') as f:\n",
        "  json.dump(encodings, f)"
      ],
      "metadata": {
        "id": "Lev4jIQjNpSD"
      },
      "execution_count": null,
      "outputs": []
    }
  ]
}